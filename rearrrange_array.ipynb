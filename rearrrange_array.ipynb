{
 "cells": [
  {
   "cell_type": "code",
   "execution_count": 4,
   "metadata": {},
   "outputs": [],
   "source": [
    "def rearrange(arr, n):\n",
    "\n",
    "    # First step: Increase all values\n",
    "    # by (arr[arr[i]] % n) * n\n",
    "    for i in range(0, n):\n",
    "        arr[i] += (arr[arr[i]] % n) * n\n",
    "\n",
    "    # Second Step: Divide all values\n",
    "    # by n\n",
    "    for i in range(0, n):\n",
    "        arr[i] = int(arr[i] / n)\n",
    "\n"
   ]
  },
  {
   "cell_type": "code",
   "execution_count": 5,
   "metadata": {},
   "outputs": [],
   "source": [
    "def printArr(arr, n):\n",
    "\n",
    "    for i in range(0, n):\n",
    "        print (arr[i], end =\" \")\n",
    "    print (\"\")\n"
   ]
  },
  {
   "cell_type": "code",
   "execution_count": 6,
   "metadata": {},
   "outputs": [
    {
     "name": "stdout",
     "output_type": "stream",
     "text": [
      "Given array is\n",
      "3 2 0 1 \n"
     ]
    }
   ],
   "source": [
    "arr = [3, 2, 0, 1]\n",
    "n = len(arr)\n",
    "\n",
    "print (\"Given array is\")\n",
    "printArr(arr, n)\n"
   ]
  },
  {
   "cell_type": "code",
   "execution_count": 7,
   "metadata": {},
   "outputs": [
    {
     "name": "stdout",
     "output_type": "stream",
     "text": [
      "Modified array is\n",
      "1 0 3 2 \n"
     ]
    }
   ],
   "source": [
    "rearrange(arr, n);\n",
    "print (\"Modified array is\")\n",
    "printArr(arr, n)\n"
   ]
  },
  {
   "cell_type": "code",
   "execution_count": 8,
   "metadata": {},
   "outputs": [
    {
     "data": {
      "text/plain": [
       "1"
      ]
     },
     "execution_count": 8,
     "metadata": {},
     "output_type": "execute_result"
    }
   ],
   "source": [
    "1%2"
   ]
  },
  {
   "cell_type": "code",
   "execution_count": null,
   "metadata": {},
   "outputs": [],
   "source": []
  }
 ],
 "metadata": {
  "kernelspec": {
   "display_name": "Python 3",
   "language": "python",
   "name": "python3"
  },
  "language_info": {
   "codemirror_mode": {
    "name": "ipython",
    "version": 3
   },
   "file_extension": ".py",
   "mimetype": "text/x-python",
   "name": "python",
   "nbconvert_exporter": "python",
   "pygments_lexer": "ipython3",
   "version": "3.8.3"
  }
 },
 "nbformat": 4,
 "nbformat_minor": 4
}
