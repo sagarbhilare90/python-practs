{
 "cells": [
  {
   "cell_type": "code",
   "execution_count": null,
   "metadata": {},
   "outputs": [],
   "source": []
  },
  {
   "cell_type": "code",
   "execution_count": 67,
   "metadata": {},
   "outputs": [],
   "source": [
    "def findnumber(numb1,numb2,num):\n",
    "    if num in range(numb1,numb2):\n",
    "            print(\"is present in the list\")\n",
    "    else:\n",
    "        print(\"number is absent\")\n",
    "            "
   ]
  },
  {
   "cell_type": "code",
   "execution_count": 68,
   "metadata": {},
   "outputs": [
    {
     "name": "stdout",
     "output_type": "stream",
     "text": [
      "Enter a lower limit of range 11\n",
      "Enter a upper limit of range 20\n",
      "Enter the number to search 13\n",
      "is present in the list\n"
     ]
    }
   ],
   "source": [
    "numb1=int(input(\"Enter a lower limit of range \"))\n",
    "numb2=int(input(\"Enter a upper limit of range \"))\n",
    "num=int(input(\"Enter the number to search \"))\n",
    "findnumber(numb1,numb2, num)"
   ]
  },
  {
   "cell_type": "code",
   "execution_count": 44,
   "metadata": {},
   "outputs": [],
   "source": []
  },
  {
   "cell_type": "code",
   "execution_count": 45,
   "metadata": {},
   "outputs": [
    {
     "data": {
      "text/plain": [
       "array([[ 3. , -1.5,  3. , -6.4],\n",
       "       [ 0. ,  3. , -1.3,  4.1],\n",
       "       [ 1. ,  2.3, -2.9, -4.3]])"
      ]
     },
     "execution_count": 45,
     "metadata": {},
     "output_type": "execute_result"
    }
   ],
   "source": []
  },
  {
   "cell_type": "code",
   "execution_count": null,
   "metadata": {},
   "outputs": [],
   "source": []
  }
 ],
 "metadata": {
  "kernelspec": {
   "display_name": "Python 3",
   "language": "python",
   "name": "python3"
  },
  "language_info": {
   "codemirror_mode": {
    "name": "ipython",
    "version": 3
   },
   "file_extension": ".py",
   "mimetype": "text/x-python",
   "name": "python",
   "nbconvert_exporter": "python",
   "pygments_lexer": "ipython3",
   "version": "3.7.3"
  }
 },
 "nbformat": 4,
 "nbformat_minor": 2
}
